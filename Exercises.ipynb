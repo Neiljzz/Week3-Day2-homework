{
 "cells": [
  {
   "cell_type": "markdown",
   "metadata": {},
   "source": [
    "#### Exercise 1 - Class Inheritance"
   ]
  },
  {
   "cell_type": "markdown",
   "metadata": {},
   "source": [
    "Create an Employee class that sets an employee's first name, last name, job title, salary, and email. The Employee class should have a class attribute for the raise amount set to 5% (1.05). Create a method that will apply the raise to an employee's salary."
   ]
  },
  {
   "cell_type": "code",
   "execution_count": 2,
   "metadata": {},
   "outputs": [
    {
     "name": "stdout",
     "output_type": "stream",
     "text": [
      "21000.0\n"
     ]
    }
   ],
   "source": [
    "class Employee:\n",
    "    def __init__(self, first_name, last_name, job_title, salary, email):\n",
    "        self.first_name = first_name\n",
    "        self.last_name = last_name\n",
    "        self. job_title = job_title\n",
    "        self. salary = salary\n",
    "        self.email = email\n",
    "\n",
    "    def improve(self):\n",
    "        my_salary = float(self.salary) * float(1.05)\n",
    "    \n",
    "        print(my_salary)\n",
    "\n",
    "person = Employee(\"Neil\", \"Jia\", \"Product Manager\",\"20000\", \"neiljzzzzzz@gmail.com\")\n",
    "person.improve()\n"
   ]
  },
  {
   "cell_type": "markdown",
   "metadata": {},
   "source": [
    "Create two more classes that inherit from the Employee class. One for Sales and one for Development. Both of these classes will have the same attributes as the Employee.<br>\n",
    "- For the Sales employees, add a phone number attribute on instantiation using the super method. \n",
    "- Create a method on the Sales class that will Send a Follow Up Email. It should take in a customer name and \"send\" aka print a formatted email \"Dear *customer*, Thank you for your interest in our product. Please let me know if you have any questions. My email is *email* or my phone number is *phone number*. Thanks, *full name*\"\n",
    "- Create a method on the Development class called code that will print out \"*full name* is writing code\"."
   ]
  },
  {
   "cell_type": "code",
   "execution_count": 1,
   "metadata": {},
   "outputs": [
    {
     "ename": "NameError",
     "evalue": "name 'Employee' is not defined",
     "output_type": "error",
     "traceback": [
      "\u001b[0;31m---------------------------------------------------------------------------\u001b[0m",
      "\u001b[0;31mNameError\u001b[0m                                 Traceback (most recent call last)",
      "\u001b[0;32m/var/folders/4n/q7qmn_sn50q71qnwmq547r7w0000gn/T/ipykernel_16419/2014950920.py\u001b[0m in \u001b[0;36m<module>\u001b[0;34m\u001b[0m\n\u001b[0;32m----> 1\u001b[0;31m \u001b[0;32mclass\u001b[0m \u001b[0mSales\u001b[0m\u001b[0;34m(\u001b[0m\u001b[0mEmployee\u001b[0m\u001b[0;34m)\u001b[0m\u001b[0;34m:\u001b[0m\u001b[0;34m\u001b[0m\u001b[0;34m\u001b[0m\u001b[0m\n\u001b[0m\u001b[1;32m      2\u001b[0m     \u001b[0;32mdef\u001b[0m \u001b[0m__init__\u001b[0m\u001b[0;34m(\u001b[0m\u001b[0mself\u001b[0m\u001b[0;34m,\u001b[0m \u001b[0mfirst_name\u001b[0m\u001b[0;34m,\u001b[0m \u001b[0mlast_name\u001b[0m\u001b[0;34m,\u001b[0m \u001b[0mjob_title\u001b[0m\u001b[0;34m,\u001b[0m \u001b[0msalary\u001b[0m\u001b[0;34m,\u001b[0m \u001b[0memail\u001b[0m\u001b[0;34m,\u001b[0m\u001b[0mphone_number\u001b[0m\u001b[0;34m)\u001b[0m\u001b[0;34m:\u001b[0m\u001b[0;34m\u001b[0m\u001b[0;34m\u001b[0m\u001b[0m\n\u001b[1;32m      3\u001b[0m         \u001b[0mprint\u001b[0m\u001b[0;34m(\u001b[0m\u001b[0;34m'This is the Sales __init__method'\u001b[0m\u001b[0;34m)\u001b[0m\u001b[0;34m\u001b[0m\u001b[0;34m\u001b[0m\u001b[0m\n\u001b[1;32m      4\u001b[0m         \u001b[0msuper\u001b[0m\u001b[0;34m(\u001b[0m\u001b[0;34m)\u001b[0m\u001b[0;34m.\u001b[0m\u001b[0m__init__\u001b[0m\u001b[0;34m(\u001b[0m\u001b[0mfirst_name\u001b[0m\u001b[0;34m,\u001b[0m \u001b[0mlast_name\u001b[0m\u001b[0;34m,\u001b[0m \u001b[0mjob_title\u001b[0m\u001b[0;34m,\u001b[0m \u001b[0msalary\u001b[0m\u001b[0;34m,\u001b[0m \u001b[0memail\u001b[0m\u001b[0;34m)\u001b[0m\u001b[0;34m\u001b[0m\u001b[0;34m\u001b[0m\u001b[0m\n\u001b[1;32m      5\u001b[0m         \u001b[0mself\u001b[0m\u001b[0;34m.\u001b[0m\u001b[0mphone_number\u001b[0m \u001b[0;34m=\u001b[0m \u001b[0mphone_number\u001b[0m\u001b[0;34m\u001b[0m\u001b[0;34m\u001b[0m\u001b[0m\n",
      "\u001b[0;31mNameError\u001b[0m: name 'Employee' is not defined"
     ]
    }
   ],
   "source": [
    "class Sales(Employee):\n",
    "    def __init__(self, first_name, last_name, job_title, salary, email,phone_number):\n",
    "        print('This is the Sales __init__method')\n",
    "        super().__init__(first_name, last_name, job_title, salary, email)\n",
    "        self.phone_number = phone_number\n",
    "\n",
    "    def send_email(self,customer_name):\n",
    "        print(f\"Dear {customer_name}, Thank you for your interest in our product. Please let me know if you have any questions. My email is {self.email} or my phone number is {self.phone_number}. Thanks, {self.first_name}{self.last_name}\")\n",
    "\n",
    "class Development(Employee):\n",
    "    def __init__(self, first_name, last_name, job_title, salary, email, phone_number):\n",
    "        print('This is the Development __init__method')\n",
    "        super().__init__(first_name, last_name, job_title, salary, email)\n",
    "        self.phone_number = phone_number\n",
    "        \n",
    "    def code(self):\n",
    "        print(f\"{self.first_name} {self.last_name} is writing code.\")\n",
    "\n",
    "person1 = Sales(\"Neil\", \"Jia\", \"Product Manager\",\"20000\", \"neiljzzzzzz@gmail.com\",\"718-916-2460\")\n",
    "person1.send_email(\"Neil\" \"Jia\")\n",
    "person2 =Development(\"Neil\", \"Jia\", \"Product Manager\",\"20000\", \"neiljzzzzzz@gmail.com\",\"718-916-2460\")\n",
    "person2.code()\n"
   ]
  },
  {
   "cell_type": "markdown",
   "metadata": {},
   "source": [
    "- Create an instance of a Sales Employee with a salary of $50,000.\n",
    "- Send follow up emails to \"Mike O'Neil\" and \"Hannah Stern\"\n",
    "- Give the employee a raise and print the salary"
   ]
  },
  {
   "cell_type": "code",
   "execution_count": 3,
   "metadata": {},
   "outputs": [
    {
     "ename": "NameError",
     "evalue": "name 'Sales' is not defined",
     "output_type": "error",
     "traceback": [
      "\u001b[0;31m---------------------------------------------------------------------------\u001b[0m",
      "\u001b[0;31mNameError\u001b[0m                                 Traceback (most recent call last)",
      "\u001b[0;32m/var/folders/4n/q7qmn_sn50q71qnwmq547r7w0000gn/T/ipykernel_16419/4163290054.py\u001b[0m in \u001b[0;36m<module>\u001b[0;34m\u001b[0m\n\u001b[0;32m----> 1\u001b[0;31m \u001b[0msales_employee\u001b[0m\u001b[0;34m=\u001b[0m\u001b[0mSales\u001b[0m\u001b[0;34m(\u001b[0m\u001b[0;34m\"Neil\"\u001b[0m\u001b[0;34m,\u001b[0m \u001b[0;34m\"Jia\"\u001b[0m\u001b[0;34m,\u001b[0m \u001b[0;34m\"Product Manager\"\u001b[0m\u001b[0;34m,\u001b[0m\u001b[0;36m50000\u001b[0m\u001b[0;34m,\u001b[0m \u001b[0;34m\"neiljzzzzzz@gmail.com\"\u001b[0m\u001b[0;34m,\u001b[0m\u001b[0;34m\"718-916-2460\"\u001b[0m\u001b[0;34m)\u001b[0m\u001b[0;34m\u001b[0m\u001b[0;34m\u001b[0m\u001b[0m\n\u001b[0m\u001b[1;32m      2\u001b[0m \u001b[0msales_employee\u001b[0m\u001b[0;34m.\u001b[0m\u001b[0msend_email\u001b[0m\u001b[0;34m(\u001b[0m \u001b[0;34m\"Mike O'Neil\"\u001b[0m \u001b[0;34m)\u001b[0m\u001b[0;34m\u001b[0m\u001b[0;34m\u001b[0m\u001b[0m\n\u001b[1;32m      3\u001b[0m \u001b[0msales_employee\u001b[0m\u001b[0;34m.\u001b[0m\u001b[0msend_email\u001b[0m\u001b[0;34m(\u001b[0m \u001b[0;34m\"Hannah Stern\"\u001b[0m \u001b[0;34m)\u001b[0m\u001b[0;34m\u001b[0m\u001b[0;34m\u001b[0m\u001b[0m\n\u001b[1;32m      4\u001b[0m \u001b[0;34m\u001b[0m\u001b[0m\n\u001b[1;32m      5\u001b[0m \u001b[0msales_employee\u001b[0m\u001b[0;34m.\u001b[0m\u001b[0msalary\u001b[0m \u001b[0;34m+=\u001b[0m \u001b[0;36m5000\u001b[0m\u001b[0;34m\u001b[0m\u001b[0;34m\u001b[0m\u001b[0m\n",
      "\u001b[0;31mNameError\u001b[0m: name 'Sales' is not defined"
     ]
    }
   ],
   "source": [
    "sales_employee=Sales(\"Neil\", \"Jia\", \"Product Manager\",50000, \"neiljzzzzzz@gmail.com\",\"718-916-2460\")\n",
    "sales_employee.send_email( \"Mike O'Neil\" )\n",
    "sales_employee.send_email( \"Hannah Stern\" )\n",
    "\n",
    "sales_employee.salary += 5000\n",
    "print(\"Salary Raise:\", sales_employee.salary)"
   ]
  },
  {
   "cell_type": "markdown",
   "metadata": {},
   "source": [
    "- Create an instance of a Development Employee with a salary of $100,000\n",
    "- Write some code with this employee\n",
    "- Give the employee a raise and print the salary"
   ]
  },
  {
   "cell_type": "code",
   "execution_count": 48,
   "metadata": {},
   "outputs": [
    {
     "name": "stdout",
     "output_type": "stream",
     "text": [
      "This is the Development __init__method\n",
      "Neil Jia is writing code.\n",
      "Salary Raise: 103000\n"
     ]
    }
   ],
   "source": [
    "Dev_employee=Development(\"Neil\", \"Jia\", \"Product Manager\",100000, \"neiljzzzzzz@gmail.com\",\"718-916-2460\")\n",
    "\n",
    "Dev_employee.code()\n",
    "Dev_employee.salary += 3000\n",
    "print(\"Salary Raise:\", Dev_employee.salary)\n"
   ]
  },
  {
   "cell_type": "markdown",
   "metadata": {},
   "source": [
    "#### Exercise 2 - Importing Modules"
   ]
  },
  {
   "cell_type": "markdown",
   "metadata": {},
   "source": [
    "In VS Code, create a module titled `geometry` and add two functions in there. One that will calculate the area of a circle given a radius. The second will find the hypotenuse of a right angle given the two sides. Import the module or the functions from the module and use it to find the answers to the below questions"
   ]
  },
  {
   "cell_type": "markdown",
   "metadata": {},
   "source": [
    "What is the area of a circle with a radius of 7cm?"
   ]
  },
  {
   "cell_type": "code",
   "execution_count": 5,
   "metadata": {},
   "outputs": [
    {
     "ename": "ModuleNotFoundError",
     "evalue": "No module named 'geometry'",
     "output_type": "error",
     "traceback": [
      "\u001b[0;31m---------------------------------------------------------------------------\u001b[0m",
      "\u001b[0;31mModuleNotFoundError\u001b[0m                       Traceback (most recent call last)",
      "\u001b[0;32m/var/folders/4n/q7qmn_sn50q71qnwmq547r7w0000gn/T/ipykernel_16419/4034565877.py\u001b[0m in \u001b[0;36m<module>\u001b[0;34m\u001b[0m\n\u001b[0;32m----> 1\u001b[0;31m \u001b[0;32mimport\u001b[0m \u001b[0mgeometry\u001b[0m\u001b[0;34m\u001b[0m\u001b[0;34m\u001b[0m\u001b[0m\n\u001b[0m\u001b[1;32m      2\u001b[0m \u001b[0;34m\u001b[0m\u001b[0m\n\u001b[1;32m      3\u001b[0m \u001b[0mradius\u001b[0m \u001b[0;34m=\u001b[0m \u001b[0;36m7\u001b[0m\u001b[0;34m\u001b[0m\u001b[0;34m\u001b[0m\u001b[0m\n\u001b[1;32m      4\u001b[0m \u001b[0marea\u001b[0m \u001b[0;34m=\u001b[0m \u001b[0mgeometry\u001b[0m\u001b[0;34m.\u001b[0m\u001b[0mcircle_area\u001b[0m\u001b[0;34m(\u001b[0m\u001b[0mradius\u001b[0m\u001b[0;34m)\u001b[0m\u001b[0;34m\u001b[0m\u001b[0;34m\u001b[0m\u001b[0m\n\u001b[1;32m      5\u001b[0m \u001b[0mprint\u001b[0m\u001b[0;34m(\u001b[0m\u001b[0;34mf\"The area of circle is {area} square cm.\"\u001b[0m\u001b[0;34m)\u001b[0m\u001b[0;34m\u001b[0m\u001b[0;34m\u001b[0m\u001b[0m\n",
      "\u001b[0;31mModuleNotFoundError\u001b[0m: No module named 'geometry'"
     ]
    }
   ],
   "source": [
    "import geometry\n",
    "\n",
    "radius = 7\n",
    "area = geometry.circle_area(radius)\n",
    "print(f\"The area of circle is {area} square cm.\")\n"
   ]
  },
  {
   "cell_type": "markdown",
   "metadata": {},
   "source": [
    "What is the hypotenuse of a right angle with sides of 3in and 4in?"
   ]
  },
  {
   "cell_type": "code",
   "execution_count": 50,
   "metadata": {},
   "outputs": [
    {
     "ename": "ModuleNotFoundError",
     "evalue": "No module named 'geometry'",
     "output_type": "error",
     "traceback": [
      "\u001b[0;31m---------------------------------------------------------------------------\u001b[0m",
      "\u001b[0;31mModuleNotFoundError\u001b[0m                       Traceback (most recent call last)",
      "Cell \u001b[0;32mIn[50], line 1\u001b[0m\n\u001b[0;32m----> 1\u001b[0m \u001b[39mimport\u001b[39;00m \u001b[39mgeometry\u001b[39;00m\n\u001b[1;32m      3\u001b[0m hypo \u001b[39m=\u001b[39m geometry\u001b[39m.\u001b[39mhypotenuse(\u001b[39m3\u001b[39m, \u001b[39m4\u001b[39m)\n\u001b[1;32m      4\u001b[0m \u001b[39mprint\u001b[39m(hypo)\n",
      "\u001b[0;31mModuleNotFoundError\u001b[0m: No module named 'geometry'"
     ]
    }
   ],
   "source": [
    "import geometry\n",
    "\n",
    "hypo = geometry.hypotenuse(3, 4)\n",
    "print(hypo)"
   ]
  },
  {
   "cell_type": "code",
   "execution_count": null,
   "metadata": {},
   "outputs": [],
   "source": []
  }
 ],
 "metadata": {
  "kernelspec": {
   "display_name": "Python 3 (ipykernel)",
   "language": "python",
   "name": "python3"
  },
  "language_info": {
   "codemirror_mode": {
    "name": "ipython",
    "version": 3
   },
   "file_extension": ".py",
   "mimetype": "text/x-python",
   "name": "python",
   "nbconvert_exporter": "python",
   "pygments_lexer": "ipython3",
   "version": "3.9.13"
  },
  "vscode": {
   "interpreter": {
    "hash": "aee8b7b246df8f9039afb4144a1f6fd8d2ca17a180786b69acc140d282b71a49"
   }
  }
 },
 "nbformat": 4,
 "nbformat_minor": 4
}
